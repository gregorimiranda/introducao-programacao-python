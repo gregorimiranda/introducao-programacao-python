{
 "cells": [
  {
   "cell_type": "code",
   "execution_count": null,
   "metadata": {},
   "outputs": [],
   "source": [
    "# Faça um programa que receba um número em segundos, converta esse número para horas, minuto e segundos. \n",
    "# Exemplos Entrada: 556 Saída: 0:9:16 Entrada: 140153 Saída: 38:55:53\n",
    "\n",
    "segundos = int(input('Digite o valor:'))\n",
    "minutos = int(segundos / 60)\n",
    "horas = int(minutos / 60)\n",
    "segundos = (segundos % 60)\n",
    "\n",
    "print(f'{horas}:{minutos}:{segundos}')\n"
   ]
  }
 ],
 "metadata": {
  "kernelspec": {
   "display_name": "Python 3",
   "language": "python",
   "name": "python3"
  },
  "language_info": {
   "name": "python",
   "version": "3.11.4"
  },
  "orig_nbformat": 4
 },
 "nbformat": 4,
 "nbformat_minor": 2
}
