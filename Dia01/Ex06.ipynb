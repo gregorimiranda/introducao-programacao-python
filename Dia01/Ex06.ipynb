# Faça um programa que receba um número em segundos, converta esse número para horas, minuto e segundos. 
# Exemplos Entrada: 556 Saída: 0:9:16 Entrada: 140153 Saída: 38:55:53

segundos = int(input('Digite o valor:'))
minutos = int(segundos / 60)
horas = int(minutos / 60)
segundos = (segundos % 60)

print(f'{horas}:{minutos}:{segundos}')

