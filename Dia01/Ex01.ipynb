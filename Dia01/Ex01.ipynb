# Escreva um programa que receba o nome de uma pessoa e faça uma saudação.

nome = input('Digite seu nome:')
print('Olá,',nome,'! Seja bem-vinde!',sep='')



