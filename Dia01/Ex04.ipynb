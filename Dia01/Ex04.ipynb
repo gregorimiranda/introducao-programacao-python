# Faça um programa que receba dois valores A e B. 
# Faça a soma desses dois valores e retorne o resultado:

a = float(input('Digite um valor:'))
b = float(input('Digite um segundo valor:'))

soma = a + b 
print(f'Soma:{soma}')

