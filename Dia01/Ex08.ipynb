{
 "cells": [
  {
   "cell_type": "code",
   "execution_count": null,
   "metadata": {},
   "outputs": [],
   "source": [
    "# Faça um programa que receba um número. Verifique se o número informado é par ou ímpar. \n",
    "# Exiba o resultado da seguinte maneira: O número x é impar ou O número x é par\n",
    "\n",
    "a = int(input('Digite um valor:'))\n",
    "if a % 2 == 0 :\n",
    "    print(f'O número {a} é par')\n",
    "else: \n",
    "    print(f'O número {a} é ímpar')\n"
   ]
  }
 ],
 "metadata": {
  "kernelspec": {
   "display_name": "Python 3",
   "language": "python",
   "name": "python3"
  },
  "language_info": {
   "name": "python",
   "version": "3.11.4"
  },
  "orig_nbformat": 4
 },
 "nbformat": 4,
 "nbformat_minor": 2
}
