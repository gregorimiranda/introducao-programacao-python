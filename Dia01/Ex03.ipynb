{
 "cells": [
  {
   "attachments": {},
   "cell_type": "markdown",
   "metadata": {},
   "source": [
    "### Faça um programa que receba o raio de uma circunferência em centímetros. \n",
    "### Retorne para o usuário qual é a área e perímetro desta circunferência no seguinte formato.\n"
   ]
  },
  {
   "cell_type": "code",
   "execution_count": null,
   "metadata": {},
   "outputs": [],
   "source": [
    "# Importamos a biblioteca math\n",
    "# 'raio' recebe  o input recebido do usuário e convertido para float\n",
    "# 'area' recebe o valor de raio elevado ao quadrado e multiplicado pela constante pi \n",
    "# 'perimetro' recebe o valor de 2 multiplicado por pi e pelo raio\n",
    "# Imprimimos o resultado \n",
    "\n",
    "import math \n",
    "\n",
    "raio = float(input('digite o raio da circunferência:'))\n",
    "area = (raio ** 2) * math.pi\n",
    "perimetro = 2 * math.pi * raio\n",
    "print(f'Área:{area}')    \n",
    "print(f'Perímeto:15{perimetro}')"
   ]
  }
 ],
 "metadata": {
  "language_info": {
   "name": "python"
  },
  "orig_nbformat": 4
 },
 "nbformat": 4,
 "nbformat_minor": 2
}
