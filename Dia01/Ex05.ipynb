{
 "cells": [
  {
   "cell_type": "code",
   "execution_count": 1,
   "metadata": {},
   "outputs": [],
   "source": [
    "# Faça um programa que receba dois valores A e B. \n",
    "# Faça a potência desses dois valores e retorne o resultado:\n",
    "\n",
    "a = int(input('Digite um número:'))\n",
    "b = int(input('Digite um segundo número:'))\n",
    "\n",
    "exp = a ** b \n",
    "print(f'a^b = {exp}')\n",
    "\n"
   ]
  }
 ],
 "metadata": {
  "kernelspec": {
   "display_name": "Python 3",
   "language": "python",
   "name": "python3"
  },
  "language_info": {
   "codemirror_mode": {
    "name": "ipython",
    "version": 3
   },
   "file_extension": ".py",
   "mimetype": "text/x-python",
   "name": "python",
   "nbconvert_exporter": "python",
   "pygments_lexer": "ipython3",
   "version": "3.11.4"
  },
  "orig_nbformat": 4
 },
 "nbformat": 4,
 "nbformat_minor": 2
}
