{
 "cells": [
  {
   "cell_type": "code",
   "execution_count": null,
   "metadata": {},
   "outputs": [],
   "source": [
    "# Faça um programa que receba o nome e a idade de uma pessoa. \n",
    "# Caso essa pessoa tenha menos de 18 anos, exiba o aviso:\n",
    "#\t“Fulano, você não pode dirigir nem beber”\n",
    "# Para as pessoas entre 18 e 65 anos, exiba o aviso:\n",
    "#\t“Fulano, bebida liberada! Só não vale dirigir!”\n",
    "# Para as pessoas com mais de 65 anos, exiba o aviso:\n",
    "#\t“Fulano, beba com muita moderação!”\n",
    "\n",
    "nome = input('Digite seu nome:')\n",
    "idade = int(input('Digite sua idade:'))\n",
    "\n",
    "if idade < 18:\n",
    "    print(f'{nome}, você não pode dirigir nem beber')\n",
    "elif idade >=18 and idade <= 65:\n",
    "    print(f'{nome}, bebida liberada! Só não vale dirigir!')\n",
    "else: \n",
    "    print(f'{nome}, beba com muita moderação!')\n"
   ]
  }
 ],
 "metadata": {
  "kernelspec": {
   "display_name": "Python 3",
   "language": "python",
   "name": "python3"
  },
  "language_info": {
   "name": "python",
   "version": "3.11.4"
  },
  "orig_nbformat": 4
 },
 "nbformat": 4,
 "nbformat_minor": 2
}
