# Escreva um programa que receba o nome e a idade de uma pessoa. 
# Depois exiba a mensagem:“Olá fulano, bom saber que você tem x anos. Seja bem vindo!”

nome = input('Digite o seu nome:')
idade = input('Digite a sua idade:')

print(f'Olá {nome}, bom saber que você tem {idade} anos. Seja bem vindo!')


