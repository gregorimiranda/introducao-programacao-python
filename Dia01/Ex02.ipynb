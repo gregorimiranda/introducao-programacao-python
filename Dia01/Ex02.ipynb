{
 "cells": [
  {
   "attachments": {},
   "cell_type": "markdown",
   "metadata": {},
   "source": [
    "### Escreva um programa que receba o nome e a idade de uma pessoa. \n",
    "### Depois exiba a mensagem:“Olá fulano, bom saber que você tem x anos. Seja bem vindo!”"
   ]
  },
  {
   "cell_type": "code",
   "execution_count": 1,
   "metadata": {},
   "outputs": [
    {
     "name": "stdout",
     "output_type": "stream",
     "text": [
      "Olá Greg, bom saber que você tem 28 anos. Seja bem vindo!\n"
     ]
    }
   ],
   "source": [
    "nome = input('Digite o seu nome:')\n",
    "idade = input('Digite a sua idade:')\n",
    "\n",
    "print(f'Olá {nome}, bom saber que você tem {idade} anos. Seja bem vindo!')"
   ]
  }
 ],
 "metadata": {
  "kernelspec": {
   "display_name": "Python 3",
   "language": "python",
   "name": "python3"
  },
  "language_info": {
   "codemirror_mode": {
    "name": "ipython",
    "version": 3
   },
   "file_extension": ".py",
   "mimetype": "text/x-python",
   "name": "python",
   "nbconvert_exporter": "python",
   "pygments_lexer": "ipython3",
   "version": "3.11.4"
  },
  "orig_nbformat": 4
 },
 "nbformat": 4,
 "nbformat_minor": 2
}
